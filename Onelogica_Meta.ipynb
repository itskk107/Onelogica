{
 "cells": [
  {
   "cell_type": "code",
   "execution_count": 1,
   "metadata": {},
   "outputs": [],
   "source": [
    "import numpy as np\n",
    "import pandas as pd\n",
    "import matplotlib.pyplot as plt\n",
    "from sklearn.preprocessing import MinMaxScaler\n",
    "from tensorflow.keras.models import Sequential\n",
    "from tensorflow.keras.layers import LSTM, Dense"
   ]
  },
  {
   "cell_type": "code",
   "execution_count": 2,
   "metadata": {},
   "outputs": [],
   "source": [
    "data = pd.read_csv('D:\\Downloads\\Onelogica\\META.csv')\n",
    "data = data[['Date', 'Close']]  # Assuming 'Date' and 'Close' columns are present\n",
    "data['Date'] = pd.to_datetime(data['Date'])\n",
    "data = data.set_index('Date')"
   ]
  },
  {
   "cell_type": "code",
   "execution_count": 3,
   "metadata": {},
   "outputs": [],
   "source": [
    "# Extract the closing prices\n",
    "closing_prices = data['Close']"
   ]
  },
  {
   "cell_type": "code",
   "execution_count": 4,
   "metadata": {},
   "outputs": [],
   "source": [
    "closing_prices = data['Close'].values.reshape(-1, 1)"
   ]
  },
  {
   "cell_type": "code",
   "execution_count": 6,
   "metadata": {},
   "outputs": [],
   "source": [
    "sequence_length = 30  "
   ]
  },
  {
   "cell_type": "code",
   "execution_count": 7,
   "metadata": {},
   "outputs": [],
   "source": [
    "def create_sequences(data, sequence_length):\n",
    "    sequences = []\n",
    "    targets = []\n",
    "    for i in range(len(data) - sequence_length):\n",
    "        sequences.append(data[i:i+sequence_length])\n",
    "        targets.append(data[i+sequence_length])\n",
    "    return np.array(sequences), np.array(targets)"
   ]
  },
  {
   "cell_type": "code",
   "execution_count": 8,
   "metadata": {},
   "outputs": [],
   "source": [
    "sequences, targets = create_sequences(data_scaled, sequence_length)\n"
   ]
  },
  {
   "cell_type": "code",
   "execution_count": 9,
   "metadata": {},
   "outputs": [],
   "source": [
    "# Split the data into training and testing sets\n",
    "split_percentage = 0.8\n",
    "split_index = int(split_percentage * len(sequences))\n",
    "\n",
    "X_train, y_train = sequences[:split_index], targets[:split_index]\n",
    "X_test, y_test = sequences[split_index:], targets[split_index:]"
   ]
  },
  {
   "cell_type": "code",
   "execution_count": 10,
   "metadata": {},
   "outputs": [],
   "source": [
    "# Build the LSTM model\n",
    "model = Sequential()\n",
    "model.add(LSTM(units=50, activation='relu', input_shape=(sequence_length, 1)))\n",
    "model.add(Dense(units=1))\n",
    "model.compile(optimizer='adam', loss='mean_squared_error')"
   ]
  },
  {
   "cell_type": "code",
   "execution_count": 11,
   "metadata": {},
   "outputs": [
    {
     "name": "stdout",
     "output_type": "stream",
     "text": [
      "Model: \"sequential\"\n",
      "_________________________________________________________________\n",
      " Layer (type)                Output Shape              Param #   \n",
      "=================================================================\n",
      " lstm (LSTM)                 (None, 50)                10400     \n",
      "                                                                 \n",
      " dense (Dense)               (None, 1)                 51        \n",
      "                                                                 \n",
      "=================================================================\n",
      "Total params: 10451 (40.82 KB)\n",
      "Trainable params: 10451 (40.82 KB)\n",
      "Non-trainable params: 0 (0.00 Byte)\n",
      "_________________________________________________________________\n"
     ]
    }
   ],
   "source": [
    "model.summary()"
   ]
  },
  {
   "cell_type": "code",
   "execution_count": 12,
   "metadata": {},
   "outputs": [
    {
     "name": "stdout",
     "output_type": "stream",
     "text": [
      "Epoch 1/100\n",
      "31/31 [==============================] - 4s 25ms/step - loss: 0.0881\n",
      "Epoch 2/100\n",
      "31/31 [==============================] - 1s 18ms/step - loss: 0.0046\n",
      "Epoch 3/100\n",
      "31/31 [==============================] - 1s 32ms/step - loss: 0.0023\n",
      "Epoch 4/100\n",
      "31/31 [==============================] - 1s 31ms/step - loss: 0.0021\n",
      "Epoch 5/100\n",
      "31/31 [==============================] - 1s 27ms/step - loss: 0.0021\n",
      "Epoch 6/100\n",
      "31/31 [==============================] - 1s 19ms/step - loss: 0.0018\n",
      "Epoch 7/100\n",
      "31/31 [==============================] - 1s 18ms/step - loss: 0.0017\n",
      "Epoch 8/100\n",
      "31/31 [==============================] - 1s 23ms/step - loss: 0.0015\n",
      "Epoch 9/100\n",
      "31/31 [==============================] - 1s 19ms/step - loss: 0.0015\n",
      "Epoch 10/100\n",
      "31/31 [==============================] - 1s 19ms/step - loss: 0.0014\n",
      "Epoch 11/100\n",
      "31/31 [==============================] - 1s 27ms/step - loss: 0.0013\n",
      "Epoch 12/100\n",
      "31/31 [==============================] - 1s 27ms/step - loss: 0.0013\n",
      "Epoch 13/100\n",
      "31/31 [==============================] - 1s 23ms/step - loss: 0.0013\n",
      "Epoch 14/100\n",
      "31/31 [==============================] - 1s 20ms/step - loss: 0.0013\n",
      "Epoch 15/100\n",
      "31/31 [==============================] - 1s 18ms/step - loss: 0.0013\n",
      "Epoch 16/100\n",
      "31/31 [==============================] - 1s 18ms/step - loss: 0.0013\n",
      "Epoch 17/100\n",
      "31/31 [==============================] - 1s 24ms/step - loss: 0.0013\n",
      "Epoch 18/100\n",
      "31/31 [==============================] - 1s 22ms/step - loss: 0.0012\n",
      "Epoch 19/100\n",
      "31/31 [==============================] - 1s 18ms/step - loss: 0.0012\n",
      "Epoch 20/100\n",
      "31/31 [==============================] - 1s 20ms/step - loss: 0.0012\n",
      "Epoch 21/100\n",
      "31/31 [==============================] - 1s 18ms/step - loss: 0.0012\n",
      "Epoch 22/100\n",
      "31/31 [==============================] - 1s 18ms/step - loss: 0.0012\n",
      "Epoch 23/100\n",
      "31/31 [==============================] - 1s 19ms/step - loss: 0.0012\n",
      "Epoch 24/100\n",
      "31/31 [==============================] - 1s 19ms/step - loss: 0.0011\n",
      "Epoch 25/100\n",
      "31/31 [==============================] - 1s 19ms/step - loss: 0.0012\n",
      "Epoch 26/100\n",
      "31/31 [==============================] - 1s 21ms/step - loss: 0.0011\n",
      "Epoch 27/100\n",
      "31/31 [==============================] - 1s 19ms/step - loss: 0.0011\n",
      "Epoch 28/100\n",
      "31/31 [==============================] - 1s 19ms/step - loss: 0.0011\n",
      "Epoch 29/100\n",
      "31/31 [==============================] - 1s 20ms/step - loss: 0.0010\n",
      "Epoch 30/100\n",
      "31/31 [==============================] - 1s 21ms/step - loss: 0.0010\n",
      "Epoch 31/100\n",
      "31/31 [==============================] - 1s 20ms/step - loss: 0.0011\n",
      "Epoch 32/100\n",
      "31/31 [==============================] - 1s 20ms/step - loss: 0.0010\n",
      "Epoch 33/100\n",
      "31/31 [==============================] - 1s 19ms/step - loss: 0.0010\n",
      "Epoch 34/100\n",
      "31/31 [==============================] - 1s 22ms/step - loss: 9.8536e-04\n",
      "Epoch 35/100\n",
      "31/31 [==============================] - 1s 19ms/step - loss: 0.0010\n",
      "Epoch 36/100\n",
      "31/31 [==============================] - 1s 20ms/step - loss: 0.0010\n",
      "Epoch 37/100\n",
      "31/31 [==============================] - 1s 19ms/step - loss: 9.7403e-04\n",
      "Epoch 38/100\n",
      "31/31 [==============================] - 1s 18ms/step - loss: 9.8761e-04\n",
      "Epoch 39/100\n",
      "31/31 [==============================] - 1s 18ms/step - loss: 9.5799e-04\n",
      "Epoch 40/100\n",
      "31/31 [==============================] - 1s 17ms/step - loss: 9.6151e-04\n",
      "Epoch 41/100\n",
      "31/31 [==============================] - 1s 19ms/step - loss: 9.7482e-04\n",
      "Epoch 42/100\n",
      "31/31 [==============================] - 1s 19ms/step - loss: 9.1685e-04\n",
      "Epoch 43/100\n",
      "31/31 [==============================] - 1s 18ms/step - loss: 9.0544e-04\n",
      "Epoch 44/100\n",
      "31/31 [==============================] - 1s 19ms/step - loss: 8.8672e-04\n",
      "Epoch 45/100\n",
      "31/31 [==============================] - 1s 18ms/step - loss: 8.8246e-04\n",
      "Epoch 46/100\n",
      "31/31 [==============================] - 1s 22ms/step - loss: 9.0697e-04\n",
      "Epoch 47/100\n",
      "31/31 [==============================] - 1s 19ms/step - loss: 8.7233e-04\n",
      "Epoch 48/100\n",
      "31/31 [==============================] - 1s 18ms/step - loss: 8.5861e-04\n",
      "Epoch 49/100\n",
      "31/31 [==============================] - 1s 18ms/step - loss: 8.7597e-04\n",
      "Epoch 50/100\n",
      "31/31 [==============================] - 1s 19ms/step - loss: 8.9111e-04\n",
      "Epoch 51/100\n",
      "31/31 [==============================] - 1s 19ms/step - loss: 8.0531e-04\n",
      "Epoch 52/100\n",
      "31/31 [==============================] - 1s 18ms/step - loss: 7.9566e-04\n",
      "Epoch 53/100\n",
      "31/31 [==============================] - 1s 18ms/step - loss: 7.9479e-04\n",
      "Epoch 54/100\n",
      "31/31 [==============================] - 1s 18ms/step - loss: 7.9048e-04\n",
      "Epoch 55/100\n",
      "31/31 [==============================] - 1s 18ms/step - loss: 8.9197e-04\n",
      "Epoch 56/100\n",
      "31/31 [==============================] - 1s 18ms/step - loss: 8.2842e-04\n",
      "Epoch 57/100\n",
      "31/31 [==============================] - 1s 19ms/step - loss: 7.9947e-04\n",
      "Epoch 58/100\n",
      "31/31 [==============================] - 1s 21ms/step - loss: 7.6711e-04\n",
      "Epoch 59/100\n",
      "31/31 [==============================] - 1s 20ms/step - loss: 7.8958e-04\n",
      "Epoch 60/100\n",
      "31/31 [==============================] - 1s 18ms/step - loss: 7.4329e-04\n",
      "Epoch 61/100\n",
      "31/31 [==============================] - 1s 18ms/step - loss: 7.5331e-04\n",
      "Epoch 62/100\n",
      "31/31 [==============================] - 1s 18ms/step - loss: 7.4316e-04\n",
      "Epoch 63/100\n",
      "31/31 [==============================] - 1s 19ms/step - loss: 7.7718e-04\n",
      "Epoch 64/100\n",
      "31/31 [==============================] - 1s 21ms/step - loss: 7.4704e-04\n",
      "Epoch 65/100\n",
      "31/31 [==============================] - 1s 18ms/step - loss: 7.1703e-04\n",
      "Epoch 66/100\n",
      "31/31 [==============================] - 1s 18ms/step - loss: 7.2019e-04\n",
      "Epoch 67/100\n",
      "31/31 [==============================] - 1s 19ms/step - loss: 7.0526e-04\n",
      "Epoch 68/100\n",
      "31/31 [==============================] - 1s 18ms/step - loss: 6.7515e-04\n",
      "Epoch 69/100\n",
      "31/31 [==============================] - 1s 19ms/step - loss: 6.6304e-04\n",
      "Epoch 70/100\n",
      "31/31 [==============================] - 1s 19ms/step - loss: 7.0660e-04\n",
      "Epoch 71/100\n",
      "31/31 [==============================] - 1s 20ms/step - loss: 6.5476e-04\n",
      "Epoch 72/100\n",
      "31/31 [==============================] - 1s 18ms/step - loss: 6.4349e-04\n",
      "Epoch 73/100\n",
      "31/31 [==============================] - 1s 18ms/step - loss: 6.3630e-04\n",
      "Epoch 74/100\n",
      "31/31 [==============================] - 1s 18ms/step - loss: 6.0878e-04\n",
      "Epoch 75/100\n",
      "31/31 [==============================] - 1s 18ms/step - loss: 6.3610e-04\n",
      "Epoch 76/100\n",
      "31/31 [==============================] - 1s 18ms/step - loss: 7.0197e-04\n",
      "Epoch 77/100\n",
      "31/31 [==============================] - 1s 19ms/step - loss: 6.3382e-04\n",
      "Epoch 78/100\n",
      "31/31 [==============================] - 1s 20ms/step - loss: 6.0273e-04\n",
      "Epoch 79/100\n",
      "31/31 [==============================] - 1s 19ms/step - loss: 5.8923e-04\n",
      "Epoch 80/100\n",
      "31/31 [==============================] - 1s 19ms/step - loss: 6.1039e-04\n",
      "Epoch 81/100\n",
      "31/31 [==============================] - 1s 18ms/step - loss: 6.6695e-04\n",
      "Epoch 82/100\n",
      "31/31 [==============================] - 1s 22ms/step - loss: 5.7845e-04\n",
      "Epoch 83/100\n",
      "31/31 [==============================] - 1s 18ms/step - loss: 5.6965e-04\n",
      "Epoch 84/100\n",
      "31/31 [==============================] - 1s 19ms/step - loss: 6.4282e-04\n",
      "Epoch 85/100\n",
      "31/31 [==============================] - 1s 19ms/step - loss: 6.1988e-04\n",
      "Epoch 86/100\n",
      "31/31 [==============================] - 1s 18ms/step - loss: 5.8207e-04\n",
      "Epoch 87/100\n",
      "31/31 [==============================] - 1s 19ms/step - loss: 5.7509e-04\n",
      "Epoch 88/100\n",
      "31/31 [==============================] - 1s 19ms/step - loss: 5.6680e-04\n",
      "Epoch 89/100\n",
      "31/31 [==============================] - 1s 18ms/step - loss: 5.3576e-04\n",
      "Epoch 90/100\n",
      "31/31 [==============================] - 1s 18ms/step - loss: 5.9284e-04\n",
      "Epoch 91/100\n",
      "31/31 [==============================] - 1s 19ms/step - loss: 5.6835e-04\n",
      "Epoch 92/100\n",
      "31/31 [==============================] - 1s 19ms/step - loss: 5.5211e-04\n",
      "Epoch 93/100\n",
      "31/31 [==============================] - 1s 22ms/step - loss: 5.6486e-04\n",
      "Epoch 94/100\n",
      "31/31 [==============================] - 1s 19ms/step - loss: 5.4868e-04\n",
      "Epoch 95/100\n",
      "31/31 [==============================] - 1s 18ms/step - loss: 5.5025e-04\n",
      "Epoch 96/100\n",
      "31/31 [==============================] - 1s 18ms/step - loss: 5.2365e-04\n",
      "Epoch 97/100\n",
      "31/31 [==============================] - 1s 18ms/step - loss: 5.9067e-04\n",
      "Epoch 98/100\n",
      "31/31 [==============================] - 1s 19ms/step - loss: 5.4940e-04\n",
      "Epoch 99/100\n",
      "31/31 [==============================] - 1s 18ms/step - loss: 5.2981e-04\n",
      "Epoch 100/100\n",
      "31/31 [==============================] - 1s 18ms/step - loss: 5.6550e-04\n"
     ]
    },
    {
     "data": {
      "text/plain": [
       "<keras.src.callbacks.History at 0x125d6bc0d90>"
      ]
     },
     "execution_count": 12,
     "metadata": {},
     "output_type": "execute_result"
    }
   ],
   "source": [
    "# Train the model\n",
    "model.fit(X_train, y_train, epochs=100, batch_size=32)"
   ]
  },
  {
   "cell_type": "code",
   "execution_count": 13,
   "metadata": {},
   "outputs": [
    {
     "name": "stdout",
     "output_type": "stream",
     "text": [
      "8/8 [==============================] - 1s 9ms/step - loss: 4.5090e-04\n",
      "Model Loss: 0.0004509007267188281\n"
     ]
    }
   ],
   "source": [
    "# Evaluate the model\n",
    "loss = model.evaluate(X_test, y_test)\n",
    "print(f'Model Loss: {loss}')\n"
   ]
  },
  {
   "cell_type": "code",
   "execution_count": 14,
   "metadata": {},
   "outputs": [
    {
     "name": "stdout",
     "output_type": "stream",
     "text": [
      "8/8 [==============================] - 0s 7ms/step\n"
     ]
    }
   ],
   "source": [
    "# Make predictions\n",
    "predictions = model.predict(X_test)"
   ]
  },
  {
   "cell_type": "code",
   "execution_count": 15,
   "metadata": {},
   "outputs": [],
   "source": [
    "# Inverse transform the predictions and actual values to the original scale\n",
    "predictions = scaler.inverse_transform(predictions)\n",
    "y_test_actual = scaler.inverse_transform(y_test)"
   ]
  },
  {
   "cell_type": "code",
   "execution_count": 16,
   "metadata": {},
   "outputs": [
    {
     "name": "stdout",
     "output_type": "stream",
     "text": [
      "Mean Squared Error (MSE): 38.780758616898325\n",
      "Root Mean Squared Error (RMSE): 6.227419900480321\n"
     ]
    }
   ],
   "source": [
    "from sklearn.metrics import mean_squared_error\n",
    "import numpy as np\n",
    "\n",
    "# Assuming you have the true values (y_test) and predictions (predicted_prices)\n",
    "# Make sure both arrays have the same length\n",
    "\n",
    "# Calculate Mean Squared Error (MSE)\n",
    "mse = mean_squared_error(y_test_actual, predictions)\n",
    "\n",
    "# Calculate Root Mean Squared Error (RMSE)\n",
    "rmse = np.sqrt(mse)\n",
    "\n",
    "print('Mean Squared Error (MSE):', mse)\n",
    "print('Root Mean Squared Error (RMSE):', rmse)\n"
   ]
  },
  {
   "cell_type": "code",
   "execution_count": 17,
   "metadata": {},
   "outputs": [
    {
     "data": {
      "image/png": "[encoded data removed]",
      "text/plain": [
       "<Figure size 1000x600 with 1 Axes>"
      ]
     },
     "metadata": {},
     "output_type": "display_data"
    }
   ],
   "source": [
    "# Plot the results\n",
    "plt.figure(figsize=(10, 6))\n",
    "plt.plot(data.index[-len(y_test_actual):], y_test_actual, label='Actual Prices', color='blue')\n",
    "plt.plot(data.index[-len(predictions):], predictions, label='Predicted Prices', color='red')\n",
    "plt.title('Stock Price Prediction of Meta using LSTM')\n",
    "plt.xlabel('Date')\n",
    "plt.ylabel('Stock Price')\n",
    "plt.legend()\n",
    "plt.show()"
   ]
  },
  {
   "cell_type": "code",
   "execution_count": 18,
   "metadata": {},
   "outputs": [
    {
     "name": "stdout",
     "output_type": "stream",
     "text": [
      "1/1 [==============================] - 0s 41ms/step\n",
      "Predicted Stock Price for Tomorrow: 316.55368\n"
     ]
    },
    {
     "name": "stderr",
     "output_type": "stream",
     "text": [
      "c:\\Users\\kumar\\AppData\\Local\\Programs\\Python\\Python311\\Lib\\site-packages\\sklearn\\base.py:465: UserWarning: X does not have valid feature names, but MinMaxScaler was fitted with feature names\n",
      "  warnings.warn(\n"
     ]
    }
   ],
   "source": [
    "# Take the last `sequence_length` days from the original data\n",
    "last_sequence = closing_prices[-sequence_length:]\n",
    "\n",
    "# Normalize the data\n",
    "last_sequence_scaled = scaler.transform(last_sequence)\n",
    "\n",
    "# Reshape the data for LSTM input\n",
    "last_sequence_scaled = np.reshape(last_sequence_scaled, (1, sequence_length, 1))\n",
    "\n",
    "# Make the prediction\n",
    "predicted_scaled = model.predict(last_sequence_scaled)\n",
    "\n",
    "# Inverse transform the predicted value to get the actual stock price\n",
    "predicted_price = scaler.inverse_transform(predicted_scaled)\n",
    "\n",
    "print(\"Predicted Stock Price for Tomorrow:\", predicted_price[0, 0])"
   ]
  }
 ],
 "metadata": {
  "kernelspec": {
   "display_name": "base",
   "language": "python",
   "name": "python3"
  },
  "language_info": {
   "codemirror_mode": {
    "name": "ipython",
    "version": 3
   },
   "file_extension": ".py",
   "mimetype": "text/x-python",
   "name": "python",
   "nbconvert_exporter": "python",
   "pygments_lexer": "ipython3",
   "version": "3.11.5"
  }
 },
 "nbformat": 4,
 "nbformat_minor": 2
}
